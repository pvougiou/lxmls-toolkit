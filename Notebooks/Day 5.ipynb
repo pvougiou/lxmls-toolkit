{
 "cells": [
  {
   "cell_type": "code",
   "execution_count": 1,
   "metadata": {
    "collapsed": true
   },
   "outputs": [],
   "source": [
    "import sys\n",
    "sys.path.append('../')"
   ]
  },
  {
   "cell_type": "code",
   "execution_count": 2,
   "metadata": {
    "collapsed": false
   },
   "outputs": [
    {
     "name": "stdout",
     "output_type": "stream",
     "text": [
      "2000\n",
      "1600\n"
     ]
    }
   ],
   "source": [
    "import numpy as np\n",
    "import lxmls.readers.sentiment_reader as srs \n",
    "scr = srs.SentimentCorpus(\"books\")\n",
    "train_x = scr.train_X.T\n",
    "train_y = scr.train_y[:, 0]\n",
    "test_x = scr.test_X.T\n",
    "test_y = scr.test_y[:, 0]"
   ]
  },
  {
   "cell_type": "code",
   "execution_count": 3,
   "metadata": {
    "collapsed": false
   },
   "outputs": [
    {
     "data": {
      "text/plain": [
       "(13989, 1600)"
      ]
     },
     "execution_count": 3,
     "metadata": {},
     "output_type": "execute_result"
    }
   ],
   "source": [
    "train_x.shape"
   ]
  },
  {
   "cell_type": "code",
   "execution_count": 4,
   "metadata": {
    "collapsed": false
   },
   "outputs": [
    {
     "name": "stdout",
     "output_type": "stream",
     "text": [
      "[13989, 20, 2]\n"
     ]
    }
   ],
   "source": [
    "# Neural network modules\n",
    "import lxmls.deep_learning.mlp as dl \n",
    "import lxmls.deep_learning.sgd as sgd \n",
    "# Model parameters\n",
    "geometry = [train_x.shape[0], 20, 2] \n",
    "print (geometry)\n",
    "actvfunc = ['sigmoid', 'softmax']\n",
    "# Instantiate model\n",
    "mlp      = dl.NumpyMLP(geometry, actvfunc)"
   ]
  },
  {
   "cell_type": "code",
   "execution_count": 5,
   "metadata": {
    "collapsed": false
   },
   "outputs": [
    {
     "name": "stdout",
     "output_type": "stream",
     "text": [
      "Batch 320/320 (100%)   Epoch  1/ 5 in 2.41 seg\n",
      "Batch 320/320 (100%)   Epoch  2/ 5 in 2.49 seg\n",
      "Batch 320/320 (100%)   Epoch  3/ 5 in 2.28 seg\n",
      "Batch 320/320 (100%)   Epoch  4/ 5 in 2.12 seg\n",
      "Batch 320/320 (100%)   Epoch  5/ 5 in 2.38 seg\n",
      " \n",
      "MLP ([13989, 20, 2]) Amazon Sentiment Accuracy train: 0.964375 test: 0.780000\n"
     ]
    }
   ],
   "source": [
    "# Model parameters\n",
    "n_iter = 5\n",
    "bsize  = 5\n",
    "lrate  = 0.01\n",
    "# Train\n",
    "sgd.SGD_train(mlp, n_iter, bsize=bsize, lrate=lrate, train_set=(train_x, train_y))\n",
    "acc_train = sgd.class_acc(mlp.forward(train_x), train_y)[0]\n",
    "acc_test = sgd.class_acc(mlp.forward(test_x), test_y)[0]\n",
    "print \"MLP (%s) Amazon Sentiment Accuracy train: %f test: %f\" % (geometry, acc_train,\n",
    "acc_test)"
   ]
  },
  {
   "cell_type": "markdown",
   "metadata": {},
   "source": [
    "## Introduction to Theano :("
   ]
  },
  {
   "cell_type": "code",
   "execution_count": 6,
   "metadata": {
    "collapsed": false
   },
   "outputs": [],
   "source": [
    "# Numpy code\n",
    "x = test_x\n",
    "W1, b1 = mlp.params[:2]\n",
    "z1 = np.dot(W1, x) + b1\n",
    "tilde_z1 = 1/(1+np.exp(-z1))  # Non-linear transformation"
   ]
  },
  {
   "cell_type": "code",
   "execution_count": 7,
   "metadata": {
    "collapsed": true
   },
   "outputs": [],
   "source": [
    "# Theano code.\n",
    "# NOTE: We use undescore to denote symbolic equivalents to Numpy variables. # This is no Python convention!.\n",
    "import theano\n",
    "import theano.tensor as T\n",
    "_x = T.matrix('x')\n",
    "_W1 = theano.shared(value=W1, name='W1', borrow=True)\n",
    "_b1 = theano.shared(value=b1, name='b1', borrow=True, broadcastable=(False, True))\n",
    "_z1            = T.dot(_W1, _x) + _b1\n",
    "_tilde_z1      = T.nnet.sigmoid(_z1)\n",
    "# Keep in mind that naming variables is useful when debugging\n",
    "_z1.name       = 'z1'\n",
    "_tilde_z1.name = 'tilde_z1'"
   ]
  },
  {
   "cell_type": "code",
   "execution_count": 8,
   "metadata": {
    "collapsed": false
   },
   "outputs": [
    {
     "name": "stdout",
     "output_type": "stream",
     "text": [
      "sigmoid [id A] 'tilde_z1'   \n",
      " |Elemwise{add,no_inplace} [id B] 'z1'   \n",
      "   |dot [id C] ''   \n",
      "   | |W1 [id D]\n",
      "   | |x [id E]\n",
      "   |b1 [id F]\n"
     ]
    }
   ],
   "source": [
    "# Perceptron computation graph\n",
    "theano.printing.debugprint(_tilde_z1)"
   ]
  },
  {
   "cell_type": "code",
   "execution_count": 9,
   "metadata": {
    "collapsed": true
   },
   "outputs": [],
   "source": [
    "layer1 = theano.function([_x], _tilde_z1)"
   ]
  },
  {
   "cell_type": "code",
   "execution_count": 10,
   "metadata": {
    "collapsed": false
   },
   "outputs": [],
   "source": [
    "# Check Numpy and Theano match\n",
    "assert np.allclose(tilde_z1, layer1(x.astype(theano.config.floatX))), \\\n",
    "\"Numpy and Theano Perceptrons are different\""
   ]
  },
  {
   "cell_type": "code",
   "execution_count": 11,
   "metadata": {
    "collapsed": true
   },
   "outputs": [],
   "source": [
    "train_x = train_x.astype(theano.config.floatX)\n",
    "train_y = train_y.astype('int32')"
   ]
  }
 ],
 "metadata": {
  "kernelspec": {
   "display_name": "Python 2",
   "language": "python",
   "name": "python2"
  },
  "language_info": {
   "codemirror_mode": {
    "name": "ipython",
    "version": 2
   },
   "file_extension": ".py",
   "mimetype": "text/x-python",
   "name": "python",
   "nbconvert_exporter": "python",
   "pygments_lexer": "ipython2",
   "version": "2.7.13"
  }
 },
 "nbformat": 4,
 "nbformat_minor": 0
}
